{
 "cells": [
  {
   "cell_type": "code",
   "execution_count": null,
   "metadata": {},
   "outputs": [],
   "source": [
    "from azure.ai.ml import MLClient\n",
    "from azure.identity import DefaultAzureCredential\n",
    "from workshop_helpers.utils import get_unique_name\n",
    "\n",
    "credential = DefaultAzureCredential()\n",
    "ml_client = MLClient.from_config(credential)\n",
    "\n",
    "unique_name = get_unique_name(credential)\n"
   ]
  },
  {
   "cell_type": "code",
   "execution_count": null,
   "metadata": {},
   "outputs": [],
   "source": [
    "from azure.ai.ml.entities import AmlCompute\n",
    "\n",
    "gpu_cluster_name = f\"gpucluster-{unique_name}\"\n",
    "try:\n",
    "    compute_target = ml_client.compute.get(gpu_cluster_name)\n",
    "    print(f\"Using existing GPU compute cluster: {gpu_cluster_name}\")\n",
    "except Exception as e:\n",
    "    print(f\"Creating new GPU compute cluster: {gpu_cluster_name}\")\n",
    "    compute_target = AmlCompute(\n",
    "        name=gpu_cluster_name,\n",
    "        size=\"Standard_NC6s_v3\",  # GPU-enabled VM size, adjust if needed\n",
    "        min_instances=0,\n",
    "        max_instances=1,\n",
    "    )\n",
    "    ml_client.compute.begin_create_or_update(compute_target).result()\n",
    "    print(f\"Created GPU compute cluster: {gpu_cluster_name}\")\n"
   ]
  },
  {
   "cell_type": "code",
   "execution_count": null,
   "metadata": {},
   "outputs": [],
   "source": [
    "from azure.ai.ml.entities import Environment\n",
    "from azure.ai.ml import command\n",
    "\n",
    "# This assumes you have an 'environment.yaml' in your code folder that defines your Conda dependencies.\n",
    "gpu_environment = Environment(\n",
    "    name=f\"uw-workshop-gpu-env-{unique_name}\",\n",
    "    description=\"GPU enabled environment\",\n",
    "    image=\"mcr.microsoft.com/azureml/curated/acpt-pytorch-1.13-cuda11.7:latest\",\n",
    "    conda_file=\"../03_Training/src/environment.yml\",\n",
    "    tags={\"gpu\": \"true\"}\n",
    ")\n",
    "\n",
    "# Register or update the environment in your workspace.\n",
    "registered_env = ml_client.environments.create_or_update(gpu_environment)\n",
    "print(f\"Registered environment: {registered_env.name}:{registered_env.version}\")\n",
    "\n",
    "job = command(\n",
    "    code=\".\",\n",
    "    command=\"python -c \\\"print('hello')\\\"\",\n",
    "    environment=registered_env,\n",
    "    compute=gpu_cluster_name,\n",
    "    display_name=f\"force_build_env-{unique_name}\",\n",
    "    experiment_name=\"ConnectivityTests\",\n",
    ")\n",
    "\n",
    "submitted_job = ml_client.jobs.create_or_update(job)\n",
    "submitted_job\n"
   ]
  },
  {
   "cell_type": "code",
   "execution_count": null,
   "metadata": {},
   "outputs": [],
   "source": [
    "submitted_job\n"
   ]
  },
  {
   "cell_type": "code",
   "execution_count": null,
   "metadata": {},
   "outputs": [],
   "source": [
    "import os\n",
    "from azureml.fsspec import AzureMachineLearningFileSystem\n",
    "\n",
    "# Get the data asset we registered\n",
    "data_asset = ml_client.data.get(name=\"rsna-pneumonia-detection-challenge-zip\", version=\"1\")\n",
    "\n",
    "# Get the data asset URI\n",
    "data_uri = data_asset.path\n",
    "\n",
    "# Create a directory to download the data\n",
    "download_dir = \"/home/azureuser/data\"\n",
    "os.makedirs(download_dir, exist_ok=True)\n",
    "\n",
    "# Initialize the AzureMachineLearningFileSystem and download the file\n",
    "fs = AzureMachineLearningFileSystem(data_uri)\n",
    "destination_file = os.path.join(download_dir, \"rsna-pneumonia-detection-challenge.zip\")\n",
    "if not os.path.exists(destination_file):\n",
    "\tfs.download(data_uri, download_dir)\n",
    "else:\n",
    "\tprint(f\"File already exists at: {destination_file}\")\n",
    "\n",
    "print(f\"Data downloaded to: {destination_file}\")\n",
    "print(destination_file)\n",
    "if os.path.exists(destination_file):\n",
    "    print(f\"File size: {os.path.getsize(destination_file) / (1024 **3):.2f} GB\")\n"
   ]
  }
 ],
 "metadata": {
  "kernelspec": {
   "display_name": "azureml_py310_sdkv2",
   "language": "python",
   "name": "python3"
  },
  "language_info": {
   "codemirror_mode": {
    "name": "ipython",
    "version": 3
   },
   "file_extension": ".py",
   "mimetype": "text/x-python",
   "name": "python",
   "nbconvert_exporter": "python",
   "pygments_lexer": "ipython3",
   "version": "3.10.14"
  }
 },
 "nbformat": 4,
 "nbformat_minor": 2
}
