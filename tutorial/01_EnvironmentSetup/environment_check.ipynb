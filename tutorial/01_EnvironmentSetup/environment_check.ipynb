{
 "cells": [
  {
   "cell_type": "code",
   "execution_count": 2,
   "metadata": {},
   "outputs": [
    {
     "name": "stderr",
     "output_type": "stream",
     "text": [
      "Found the config file in: /config.json\n"
     ]
    },
    {
     "name": "stdout",
     "output_type": "stream",
     "text": [
      "Validicating credential....\n",
      "Credential Validated\n",
      "Determining unique name....\n",
      "Unique name: jmerkow\n"
     ]
    }
   ],
   "source": [
    "from azure.ai.ml import MLClient\n",
    "from azure.identity import DefaultAzureCredential\n",
    "from workshop_helpers.utils import get_unique_name\n",
    "\n",
    "credential = DefaultAzureCredential()\n",
    "ml_client = MLClient.from_config(credential)\n",
    "\n",
    "unique_name = get_unique_name(credential)\n"
   ]
  },
  {
   "cell_type": "code",
   "execution_count": 3,
   "metadata": {},
   "outputs": [
    {
     "name": "stdout",
     "output_type": "stream",
     "text": [
      "Using existing GPU compute cluster: gpucluster-jmerkow\n"
     ]
    }
   ],
   "source": [
    "from azure.ai.ml.entities import AmlCompute\n",
    "\n",
    "gpu_cluster_name = f\"gpucluster-{unique_name}\" ## TODO Add unique name\n",
    "try:\n",
    "    compute_target = ml_client.compute.get(gpu_cluster_name)\n",
    "    print(f\"Using existing GPU compute cluster: {gpu_cluster_name}\")\n",
    "except Exception as e:\n",
    "    print(f\"Creating new GPU compute cluster: {gpu_cluster_name}\")\n",
    "    compute_target = AmlCompute(\n",
    "        name=gpu_cluster_name,\n",
    "        size=\"Standard_NC6s_v3\",  # GPU-enabled VM size, adjust if needed\n",
    "        min_instances=0,\n",
    "        max_instances=5,\n",
    "    )\n",
    "    ml_client.compute.begin_create_or_update(compute_target).result()\n",
    "    print(f\"Created GPU compute cluster: {gpu_cluster_name}\")\n"
   ]
  },
  {
   "cell_type": "code",
   "execution_count": 4,
   "metadata": {},
   "outputs": [
    {
     "name": "stderr",
     "output_type": "stream",
     "text": [
      "Class AutoDeleteSettingSchema: This is an experimental class, and may change at any time. Please see https://aka.ms/azuremlexperimental for more information.\n",
      "Class AutoDeleteConditionSchema: This is an experimental class, and may change at any time. Please see https://aka.ms/azuremlexperimental for more information.\n",
      "Class BaseAutoDeleteSettingSchema: This is an experimental class, and may change at any time. Please see https://aka.ms/azuremlexperimental for more information.\n",
      "Class IntellectualPropertySchema: This is an experimental class, and may change at any time. Please see https://aka.ms/azuremlexperimental for more information.\n",
      "Class ProtectionLevelSchema: This is an experimental class, and may change at any time. Please see https://aka.ms/azuremlexperimental for more information.\n",
      "Class BaseIntellectualPropertySchema: This is an experimental class, and may change at any time. Please see https://aka.ms/azuremlexperimental for more information.\n",
      "Warning: the provided asset name 'uw-workshop-gpu-env-jmerkow' will not be used for anonymous registration\n",
      "Warning: the provided asset name 'uw-workshop-gpu-env-jmerkow' will not be used for anonymous registration\n"
     ]
    },
    {
     "name": "stdout",
     "output_type": "stream",
     "text": [
      "Registered environment: uw-workshop-gpu-env-jmerkow:6\n"
     ]
    },
    {
     "name": "stderr",
     "output_type": "stream",
     "text": [
      "\u001b[32mUploading 01_EnvironmentSetup (0.02 MBs): 100%|██████████████████████████████████████████████████████████████████████████████████████████████████████████████████████████████████████████████████████████████████████████████████████████████████████████████████████████████████████████████████████████████████████████████████████████████████████████████████████████████████████████████████████████████████████████████████████████████████████████████████████████████████████████████████████████████████████████████████████████████████████████████████████████████████████████████████████████████████████████████████████████████████████████████████████████████████████████████████████████████████████████████████████████████████████████████████████████████████████████████████████████████████████████████████████████████████████████████████████████████████████████████████████████████████████████████████████████████████████████████████████████████████████████████| 15114/15114 [00:00<00:00, 549315.97it/s]\u001b[0m\n",
      "\u001b[39m\n",
      "\n"
     ]
    },
    {
     "data": {
      "text/html": [
       "<table style=\"width:100%\"><tr><th>Experiment</th><th>Name</th><th>Type</th><th>Status</th><th>Details Page</th></tr><tr><td>ConnectivityTests</td><td>clever_picture_tzg7x11y2d</td><td>command</td><td>Starting</td><td><a href=\"https://ml.azure.com/runs/clever_picture_tzg7x11y2d?wsid=/subscriptions/6c180dd2-1ec4-4fad-8ba8-1f2d8d67c129/resourcegroups/fmmg-mars-collab/workspaces/fmmg-mars-collab&amp;tid=72f988bf-86f1-41af-91ab-2d7cd011db47\" target=\"_blank\" rel=\"noopener\">Link to Azure Machine Learning studio</a></td></tr></table>"
      ],
      "text/plain": [
       "Command({'parameters': {}, 'init': False, 'name': 'clever_picture_tzg7x11y2d', 'type': 'command', 'status': 'Starting', 'log_files': None, 'description': None, 'tags': {}, 'properties': {'mlflow.source.git.repoURL': 'https://github.com/microsoft/uwisconsin-collab-workshop.git', 'mlflow.source.git.branch': 'main', 'mlflow.source.git.commit': '3547a4bc7d5346eadf2a31f3b1d99027f5f5bd21', 'azureml.git.dirty': 'True', '_azureml.ComputeTargetType': 'amlctrain', '_azureml.ClusterName': 'gpucluster-jmerkow', 'ContentSnapshotId': '3daa90da-9fd0-4940-833b-8e6a5d8b227e'}, 'print_as_yaml': False, 'id': '/subscriptions/6c180dd2-1ec4-4fad-8ba8-1f2d8d67c129/resourceGroups/fmmg-mars-collab/providers/Microsoft.MachineLearningServices/workspaces/fmmg-mars-collab/jobs/clever_picture_tzg7x11y2d', 'Resource__source_path': '', 'base_path': '/mnt/batch/tasks/shared/LS_root/mounts/clusters/jmerkow-cpu-uw/code/Users/jmerkow/UW Workshop/tutorial/01_EnvironmentSetup', 'creation_context': <azure.ai.ml.entities._system_data.SystemData object at 0x7fb13c327580>, 'serialize': <msrest.serialization.Serializer object at 0x7fb13c327a60>, 'allowed_keys': {}, 'key_restriction': False, 'logger': <TraceLogger attr_dict (WARNING)>, 'display_name': 'force_build_env-jmerkow', 'experiment_name': 'ConnectivityTests', 'compute': 'gpucluster-jmerkow', 'services': {'Tracking': {'endpoint': 'azureml://westus2.api.azureml.ms/mlflow/v1.0/subscriptions/6c180dd2-1ec4-4fad-8ba8-1f2d8d67c129/resourceGroups/fmmg-mars-collab/providers/Microsoft.MachineLearningServices/workspaces/fmmg-mars-collab?', 'type': 'Tracking'}, 'Studio': {'endpoint': 'https://ml.azure.com/runs/clever_picture_tzg7x11y2d?wsid=/subscriptions/6c180dd2-1ec4-4fad-8ba8-1f2d8d67c129/resourcegroups/fmmg-mars-collab/workspaces/fmmg-mars-collab&tid=72f988bf-86f1-41af-91ab-2d7cd011db47', 'type': 'Studio'}}, 'comment': None, 'job_inputs': {}, 'job_outputs': {'default': {'type': 'uri_folder', 'path': 'azureml://datastores/workspaceartifactstore/ExperimentRun/dcid.clever_picture_tzg7x11y2d', 'mode': 'rw_mount'}}, 'inputs': {}, 'outputs': {'default': <azure.ai.ml.entities._job.pipeline._io.base.NodeOutput object at 0x7fb13c3274f0>}, 'component': CommandComponent({'latest_version': None, 'intellectual_property': None, 'auto_increment_version': True, 'source': 'REMOTE.WORKSPACE.JOB', 'is_anonymous': False, 'auto_delete_setting': None, 'name': 'clever_picture_tzg7x11y2d', 'description': None, 'tags': {}, 'properties': {}, 'print_as_yaml': False, 'id': None, 'Resource__source_path': None, 'base_path': '/mnt/batch/tasks/shared/LS_root/mounts/clusters/jmerkow-cpu-uw/code/Users/jmerkow/UW Workshop/tutorial/01_EnvironmentSetup', 'creation_context': <azure.ai.ml.entities._system_data.SystemData object at 0x7fb13c327580>, 'serialize': <msrest.serialization.Serializer object at 0x7fb13c327cd0>, 'command': 'python -c \"print(\\'hello\\')\"', 'code': '/subscriptions/6c180dd2-1ec4-4fad-8ba8-1f2d8d67c129/resourceGroups/fmmg-mars-collab/providers/Microsoft.MachineLearningServices/workspaces/fmmg-mars-collab/codes/862eeff4-ee7c-47f0-8338-88dddbc04f02/versions/1', 'environment_variables': {}, 'environment': '/subscriptions/6c180dd2-1ec4-4fad-8ba8-1f2d8d67c129/resourceGroups/fmmg-mars-collab/providers/Microsoft.MachineLearningServices/workspaces/fmmg-mars-collab/environments/uw-workshop-gpu-env-jmerkow/versions/6', 'distribution': None, 'resources': None, 'queue_settings': None, 'version': None, 'schema': None, 'type': 'command', 'display_name': 'force_build_env-jmerkow', 'is_deterministic': True, 'inputs': {}, 'outputs': {'default': {'type': 'uri_folder', 'path': 'azureml://datastores/workspaceartifactstore/ExperimentRun/dcid.clever_picture_tzg7x11y2d', 'mode': 'rw_mount'}}, 'yaml_str': None, 'other_parameter': {'status': 'Starting', 'parameters': {}}, 'additional_includes': []}), 'referenced_control_flow_node_instance_id': None, 'kwargs': {'services': {'Tracking': {'endpoint': 'azureml://westus2.api.azureml.ms/mlflow/v1.0/subscriptions/6c180dd2-1ec4-4fad-8ba8-1f2d8d67c129/resourceGroups/fmmg-mars-collab/providers/Microsoft.MachineLearningServices/workspaces/fmmg-mars-collab?', 'type': 'Tracking'}, 'Studio': {'endpoint': 'https://ml.azure.com/runs/clever_picture_tzg7x11y2d?wsid=/subscriptions/6c180dd2-1ec4-4fad-8ba8-1f2d8d67c129/resourcegroups/fmmg-mars-collab/workspaces/fmmg-mars-collab&tid=72f988bf-86f1-41af-91ab-2d7cd011db47', 'type': 'Studio'}}, 'status': 'Starting', 'creation_context': <azure.ai.ml.entities._system_data.SystemData object at 0x7fb13c327580>}, 'instance_id': '50d1fde4-1ad3-483a-b1ef-35c78b70329e', 'source': 'BUILDER', 'validate_required_input_not_provided': True, 'limits': None, 'identity': None, 'distribution': None, 'environment_variables': {}, 'environment': 'uw-workshop-gpu-env-jmerkow:6', 'resources': {'instance_count': 1, 'shm_size': '2g'}, 'queue_settings': None, 'swept': False})"
      ]
     },
     "execution_count": 4,
     "metadata": {},
     "output_type": "execute_result"
    }
   ],
   "source": [
    "from azure.ai.ml.entities import Environment\n",
    "from azure.ai.ml import command\n",
    "\n",
    "# This assumes you have an 'environment.yaml' in your code folder that defines your Conda dependencies.\n",
    "gpu_environment = Environment(\n",
    "    name=f\"uw-workshop-gpu-env-{unique_name}\",\n",
    "    description=\"GPU enabled environment\",\n",
    "    image=\"mcr.microsoft.com/azureml/curated/acpt-pytorch-1.13-cuda11.7:latest\",\n",
    "    conda_file=\"../03_Training/src/environment.yml\",\n",
    "    tags={\"gpu\": \"true\"}\n",
    ")\n",
    "\n",
    "# Register or update the environment in your workspace.\n",
    "registered_env = ml_client.environments.create_or_update(gpu_environment)\n",
    "print(f\"Registered environment: {registered_env.name}:{registered_env.version}\")\n",
    "\n",
    "job = command(\n",
    "    code=\".\",\n",
    "    command=\"python -c \\\"print('hello')\\\"\",\n",
    "    environment=registered_env,\n",
    "    compute=gpu_cluster_name,\n",
    "    display_name=f\"force_build_env-{unique_name}\",\n",
    "    experiment_name=\"ConnectivityTests\",\n",
    ")\n",
    "\n",
    "submitted_job = ml_client.jobs.create_or_update(job)\n",
    "submitted_job\n"
   ]
  },
  {
   "cell_type": "code",
   "execution_count": null,
   "metadata": {},
   "outputs": [
    {
     "data": {
      "text/html": [
       "<table style=\"width:100%\"><tr><th>Experiment</th><th>Name</th><th>Type</th><th>Status</th><th>Details Page</th></tr><tr><td>ConnectivityTests</td><td>gifted_cow_fwgzf4wfw3</td><td>command</td><td>Starting</td><td><a href=\"https://ml.azure.com/runs/gifted_cow_fwgzf4wfw3?wsid=/subscriptions/6c180dd2-1ec4-4fad-8ba8-1f2d8d67c129/resourcegroups/fmmg-mars-collab/workspaces/fmmg-mars-collab&amp;tid=72f988bf-86f1-41af-91ab-2d7cd011db47\" target=\"_blank\" rel=\"noopener\">Link to Azure Machine Learning studio</a></td></tr></table>"
      ],
      "text/plain": [
       "Command({'parameters': {}, 'init': False, 'name': 'gifted_cow_fwgzf4wfw3', 'type': 'command', 'status': 'Starting', 'log_files': None, 'description': None, 'tags': {}, 'properties': {'mlflow.source.git.repoURL': 'https://github.com/microsoft/uwisconsin-collab-workshop.git', 'mlflow.source.git.branch': 'main', 'mlflow.source.git.commit': '3547a4bc7d5346eadf2a31f3b1d99027f5f5bd21', 'azureml.git.dirty': 'True', '_azureml.ComputeTargetType': 'amlctrain', '_azureml.ClusterName': 'gpucluster-jmerkow', 'ContentSnapshotId': '8453547b-e8d6-47e2-81f1-cacb5a5e235e'}, 'print_as_yaml': False, 'id': '/subscriptions/6c180dd2-1ec4-4fad-8ba8-1f2d8d67c129/resourceGroups/fmmg-mars-collab/providers/Microsoft.MachineLearningServices/workspaces/fmmg-mars-collab/jobs/gifted_cow_fwgzf4wfw3', 'Resource__source_path': '', 'base_path': '/mnt/batch/tasks/shared/LS_root/mounts/clusters/jmerkow-cpu-uw/code/Users/jmerkow/UW Workshop/tutorial/01_EnvironmentSetup', 'creation_context': <azure.ai.ml.entities._system_data.SystemData object at 0x7f4d4811f070>, 'serialize': <msrest.serialization.Serializer object at 0x7f4d4811ffa0>, 'allowed_keys': {}, 'key_restriction': False, 'logger': <TraceLogger attr_dict (WARNING)>, 'display_name': 'force_build_env-jmerkow', 'experiment_name': 'ConnectivityTests', 'compute': 'gpucluster-jmerkow', 'services': {'Tracking': {'endpoint': 'azureml://westus2.api.azureml.ms/mlflow/v1.0/subscriptions/6c180dd2-1ec4-4fad-8ba8-1f2d8d67c129/resourceGroups/fmmg-mars-collab/providers/Microsoft.MachineLearningServices/workspaces/fmmg-mars-collab?', 'type': 'Tracking'}, 'Studio': {'endpoint': 'https://ml.azure.com/runs/gifted_cow_fwgzf4wfw3?wsid=/subscriptions/6c180dd2-1ec4-4fad-8ba8-1f2d8d67c129/resourcegroups/fmmg-mars-collab/workspaces/fmmg-mars-collab&tid=72f988bf-86f1-41af-91ab-2d7cd011db47', 'type': 'Studio'}}, 'comment': None, 'job_inputs': {}, 'job_outputs': {'default': {'type': 'uri_folder', 'path': 'azureml://datastores/workspaceartifactstore/ExperimentRun/dcid.gifted_cow_fwgzf4wfw3', 'mode': 'rw_mount'}}, 'inputs': {}, 'outputs': {'default': <azure.ai.ml.entities._job.pipeline._io.base.NodeOutput object at 0x7f4d4811ef80>}, 'component': CommandComponent({'latest_version': None, 'intellectual_property': None, 'auto_increment_version': True, 'source': 'REMOTE.WORKSPACE.JOB', 'is_anonymous': False, 'auto_delete_setting': None, 'name': 'gifted_cow_fwgzf4wfw3', 'description': None, 'tags': {}, 'properties': {}, 'print_as_yaml': False, 'id': None, 'Resource__source_path': None, 'base_path': '/mnt/batch/tasks/shared/LS_root/mounts/clusters/jmerkow-cpu-uw/code/Users/jmerkow/UW Workshop/tutorial/01_EnvironmentSetup', 'creation_context': <azure.ai.ml.entities._system_data.SystemData object at 0x7f4d4811f070>, 'serialize': <msrest.serialization.Serializer object at 0x7f4d4811fb50>, 'command': \"python -c print('hello')\", 'code': '/subscriptions/6c180dd2-1ec4-4fad-8ba8-1f2d8d67c129/resourceGroups/fmmg-mars-collab/providers/Microsoft.MachineLearningServices/workspaces/fmmg-mars-collab/codes/4b1a6e3d-164c-43f0-b02f-4deb2fb2c909/versions/1', 'environment_variables': {}, 'environment': '/subscriptions/6c180dd2-1ec4-4fad-8ba8-1f2d8d67c129/resourceGroups/fmmg-mars-collab/providers/Microsoft.MachineLearningServices/workspaces/fmmg-mars-collab/environments/uw-workshop-gpu-env-jmerkow/versions/4', 'distribution': None, 'resources': None, 'queue_settings': None, 'version': None, 'schema': None, 'type': 'command', 'display_name': 'force_build_env-jmerkow', 'is_deterministic': True, 'inputs': {}, 'outputs': {'default': {'type': 'uri_folder', 'path': 'azureml://datastores/workspaceartifactstore/ExperimentRun/dcid.gifted_cow_fwgzf4wfw3', 'mode': 'rw_mount'}}, 'yaml_str': None, 'other_parameter': {'status': 'Starting', 'parameters': {}}, 'additional_includes': []}), 'referenced_control_flow_node_instance_id': None, 'kwargs': {'services': {'Tracking': {'endpoint': 'azureml://westus2.api.azureml.ms/mlflow/v1.0/subscriptions/6c180dd2-1ec4-4fad-8ba8-1f2d8d67c129/resourceGroups/fmmg-mars-collab/providers/Microsoft.MachineLearningServices/workspaces/fmmg-mars-collab?', 'type': 'Tracking'}, 'Studio': {'endpoint': 'https://ml.azure.com/runs/gifted_cow_fwgzf4wfw3?wsid=/subscriptions/6c180dd2-1ec4-4fad-8ba8-1f2d8d67c129/resourcegroups/fmmg-mars-collab/workspaces/fmmg-mars-collab&tid=72f988bf-86f1-41af-91ab-2d7cd011db47', 'type': 'Studio'}}, 'status': 'Starting', 'creation_context': <azure.ai.ml.entities._system_data.SystemData object at 0x7f4d4811f070>}, 'instance_id': 'b2ae29d7-1d32-4eb7-a153-2f83ef80c939', 'source': 'BUILDER', 'validate_required_input_not_provided': True, 'limits': None, 'identity': None, 'distribution': None, 'environment_variables': {}, 'environment': 'uw-workshop-gpu-env-jmerkow:4', 'resources': {'instance_count': 1, 'shm_size': '2g'}, 'queue_settings': None, 'swept': False})"
      ]
     },
     "execution_count": 5,
     "metadata": {},
     "output_type": "execute_result"
    }
   ],
   "source": [
    "submitted_job\n"
   ]
  },
  {
   "cell_type": "code",
   "execution_count": null,
   "metadata": {},
   "outputs": [],
   "source": [
    "import os\n",
    "from azureml.fsspec import AzureMachineLearningFileSystem\n",
    "\n",
    "# Get the data asset we registered\n",
    "data_asset = ml_client.data.get(name=\"rsna-pneumonia-detection-challenge-zip\", version=\"1\")\n",
    "\n",
    "# Get the data asset URI\n",
    "data_uri = data_asset.path\n",
    "\n",
    "# Create a directory to download the data\n",
    "download_dir = \"/home/azureuser/data-test\"\n",
    "os.makedirs(download_dir, exist_ok=True)\n",
    "\n",
    "# Initialize the AzureMachineLearningFileSystem and download the file\n",
    "fs = AzureMachineLearningFileSystem(data_uri)\n",
    "destination_file = os.path.join(download_dir, \"rsna-pneumonia-detection-challenge.zip\")\n",
    "if not os.path.exists(destination_file):\n",
    "\tfs.download(data_uri, download_dir)\n",
    "else:\n",
    "\tprint(f\"File already exists at: {destination_file}\")\n",
    "\n",
    "print(f\"Data downloaded to: {destination_file}\")\n",
    "print(destination_file)\n",
    "if os.path.exists(destination_file):\n",
    "    print(f\"File size: {os.path.getsize(destination_file) / (1024 **3):.2f} GB\")\n"
   ]
  }
 ],
 "metadata": {
  "kernelspec": {
   "display_name": "azureml_py310_sdkv2",
   "language": "python",
   "name": "python3"
  },
  "language_info": {
   "codemirror_mode": {
    "name": "ipython",
    "version": 3
   },
   "file_extension": ".py",
   "mimetype": "text/x-python",
   "name": "python",
   "nbconvert_exporter": "python",
   "pygments_lexer": "ipython3",
   "version": "3.10.14"
  }
 },
 "nbformat": 4,
 "nbformat_minor": 2
}
