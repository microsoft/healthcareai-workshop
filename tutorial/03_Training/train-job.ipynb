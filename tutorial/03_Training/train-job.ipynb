{
 "cells": [
  {
   "cell_type": "markdown",
   "metadata": {},
   "source": [
    "# Training with Azure ML\n",
    "\n",
    "Azure Machine Learning (Azure ML) provides a robust platform for training machine learning models at scale. This notebook guides you through the process of configuring and submitting a training job to Azure ML's managed compute resources, allowing you to leverage powerful GPU instances without managing the underlying infrastructure.\n",
    "\n",
    "This notebook demonstrates how to submit a training job to Azure ML using the Python SDK. The job will:\n",
    "- Train a pneumonia detection model using PyTorch\n",
    "- Run on GPU compute for accelerated training\n",
    "- Leverage the registered RSNA pneumonia dataset\n",
    "- Use custom training parameters (epochs, learning rate)\n",
    "- Track metrics and artifacts automatically with MLflow\n",
    "\n",
    "By defining your training as an Azure ML job, you gain several advantages over running locally. Your experiments are automatically tracked, resources are provisioned on-demand, and your training can scale to multiple GPUs if needed. The job definition includes everything needed to reproduce your training, from code and data to environment configuration and compute resources.\n",
    "\n",
    "Once your job is submitted, you can monitor its progress through logs, metrics, and the Azure ML Studio interface. After training completes, the resulting model will be registered and can be deployed for inference or used in subsequent workflows.\n",
    "\n",
    "## Setup Pre-requisites\n",
    "\n",
    "Before starting, ensure you have the following ready:\n",
    "\n",
    "* You need access to an Azure ML workspace with appropriate permissions.\n",
    "* The RSNA pneumonia detection dataset should already be registered in your workspace.\n",
    "* Your Azure ML workspace should have quota for GPU compute resources.\n",
    "\n",
    "This notebook assumes you've already completed the data preparation steps and have registered your dataset with Azure ML. We'll be using that registered dataset as input to our training job, making it available to our compute cluster during training.\n",
    "\n",
    "## What you will do:\n",
    "\n",
    "* Connect to your Azure ML workspace using the Python SDK.\n",
    "* Set up GPU compute resources for model training.\n",
    "* Create and register a GPU-enabled environment with PyTorch.\n",
    "* Retrieve the RSNA pneumonia detection dataset from your workspace.\n",
    "* Configure and submit a distributed training job to Azure ML.\n",
    "* Monitor the training job's progress through the Azure ML Studio.\n",
    "\n",
    "The Azure ML Python SDK v2 simplifies these tasks through a streamlined interface, allowing you to focus on model development rather than infrastructure management. Throughout this notebook, you'll learn how to use key SDK components to orchestrate your training workflow.\n",
    "\n"
   ]
  },
  {
   "cell_type": "code",
   "execution_count": 1,
   "metadata": {},
   "outputs": [
    {
     "name": "stderr",
     "output_type": "stream",
     "text": [
      "Found the config file in: /config.json\n"
     ]
    },
    {
     "name": "stdout",
     "output_type": "stream",
     "text": [
      "Validicating credential....\n",
      "Credential Validated\n",
      "Determining unique name....\n",
      "Unique name: jmerkow\n"
     ]
    }
   ],
   "source": [
    "from azure.ai.ml import MLClient\n",
    "from azure.identity import DefaultAzureCredential\n",
    "from workshop_helpers.utils import get_unique_name\n",
    "\n",
    "credential = DefaultAzureCredential()\n",
    "ml_client = MLClient.from_config(credential)\n",
    "\n",
    "unique_name = get_unique_name(credential)\n"
   ]
  },
  {
   "cell_type": "markdown",
   "metadata": {},
   "source": [
    "## GPU Compute Target Setup\n",
    "\n",
    "This cell configures a dedicated GPU compute environment for our machine learning training jobs. GPU acceleration is essential for efficiently training deep learning models, especially for computer vision tasks that require significant computational power. By establishing this compute target, we ensure our training pipeline has access to the necessary GPU resources without manually managing infrastructure.\n",
    "\n",
    "The code performs a critical infrastructure step that:\n",
    "\n",
    "- **Automates resource provisioning**: Eliminates the need for manual cluster creation through the Azure portal\n",
    "- **Enables scalability**: Configures auto-scaling to optimize resource usage during training\n",
    "- **Standardizes the environment**: Ensures all training jobs run on consistent, reproducible hardware\n",
    "- **Supports cost management**: Sets minimum instances to zero to avoid charges when the cluster is idle\n",
    "\n",
    "Steps:\n",
    "- Check if a GPU compute cluster named \"gpucluster\" already exists\n",
    "- If not found, create a new compute target with:\n",
    "  - GPU-enabled VM size (Standard_NC6s_v3)\n",
    "  - Auto-scaling configuration (0 minimum to 4 maximum instances)\n",
    "- Wait for cluster creation to complete\n",
    "- Log status of the compute resource"
   ]
  },
  {
   "cell_type": "code",
   "execution_count": 2,
   "metadata": {},
   "outputs": [
    {
     "name": "stdout",
     "output_type": "stream",
     "text": [
      "Using existing GPU compute cluster: gpucluster-jmerkow\n"
     ]
    }
   ],
   "source": [
    "from azure.ai.ml.entities import AmlCompute\n",
    "\n",
    "gpu_cluster_name = f\"gpucluster-{unique_name}\" ## TODO Add unique name\n",
    "try:\n",
    "    compute_target = ml_client.compute.get(gpu_cluster_name)\n",
    "    print(f\"Using existing GPU compute cluster: {gpu_cluster_name}\")\n",
    "except Exception as e:\n",
    "    print(f\"Creating new GPU compute cluster: {gpu_cluster_name}\")\n",
    "    compute_target = AmlCompute(\n",
    "        name=gpu_cluster_name,\n",
    "        size=\"Standard_NC6s_v3\",  # GPU-enabled VM size, adjust if needed\n",
    "        min_instances=0,\n",
    "        max_instances=5,\n",
    "    )\n",
    "    ml_client.compute.begin_create_or_update(compute_target).result()\n",
    "    print(f\"Created GPU compute cluster: {gpu_cluster_name}\")\n"
   ]
  },
  {
   "cell_type": "markdown",
   "metadata": {},
   "source": [
    "## Machine Learning Environment Configuration\n",
    "\n",
    "This cell defines and registers a specialized GPU-enabled environment that will be used to execute our training code in the cloud. The environment configuration is a critical component of our machine learning workflow as it ensures all dependencies, frameworks, and GPU drivers are consistently available across training runs.\n",
    "\n",
    "By creating a dedicated environment with PyTorch and CUDA support, we establish a reproducible foundation that:\n",
    "\n",
    "- **Guarantees compatibility**: The curated Docker image provides pre-tested PyTorch with CUDA drivers that are optimized for deep learning\n",
    "- **Maintains consistency**: Environment versioning ensures all experiments run with identical dependencies\n",
    "- **Enables reproducibility**: The combination of the base image and conda file creates a fully documented, reusable environment\n",
    "- **Optimizes performance**: The environment is specifically configured to leverage GPU acceleration for faster model training\n",
    "\n",
    "Steps:\n",
    "- Define a GPU-enabled environment using a PyTorch/CUDA Docker image\n",
    "- Incorporate additional dependencies from a conda YAML file\n",
    "- Add metadata tags for environment categorization\n",
    "- Register the environment in the Azure ML workspace\n",
    "- Capture the environment name and version for reference in training jobs"
   ]
  },
  {
   "cell_type": "code",
   "execution_count": 3,
   "metadata": {},
   "outputs": [
    {
     "name": "stdout",
     "output_type": "stream",
     "text": [
      "Registered environment: uw-workshop-gpu-env-jmerkow:12\n"
     ]
    }
   ],
   "source": [
    "from azure.ai.ml.entities import Environment\n",
    "\n",
    "# This assumes you have an 'environment.yaml' in your code folder that defines your Conda dependencies.\n",
    "gpu_environment = Environment(\n",
    "    name=f\"uw-workshop-gpu-env-{unique_name}\",\n",
    "    description=\"GPU enabled environment\",\n",
    "    image=\"mcr.microsoft.com/azureml/curated/acpt-pytorch-1.13-cuda11.7:latest\",\n",
    "    conda_file=\"src/environment.yml\",\n",
    "    tags={\"gpu\": \"true\"}\n",
    ")\n",
    "\n",
    "# Register or update the environment in your workspace.\n",
    "registered_env = ml_client.environments.create_or_update(gpu_environment)\n",
    "print(f\"Registered environment: {registered_env.name}:{registered_env.version}\")\n"
   ]
  },
  {
   "cell_type": "markdown",
   "metadata": {},
   "source": [
    "## Dataset Retrieval\n",
    "\n",
    "This cell accesses our previously registered pneumonia dataset from the Azure ML workspace, ensuring our training job can reference the correct data assets. By retrieving the latest version of the dataset, we establish a connection to the centralized data resource that maintains consistency across all training runs and enables reproducibility of our experiments.\n",
    "\n",
    "Steps:\n",
    "- Specify the dataset name to retrieve\n",
    "- Fetch the latest version of the registered dataset from the Azure ML workspace\n",
    "- Confirm successful retrieval by displaying dataset name and version information"
   ]
  },
  {
   "cell_type": "code",
   "execution_count": 4,
   "metadata": {},
   "outputs": [
    {
     "name": "stdout",
     "output_type": "stream",
     "text": [
      "Retrieved dataset: rsna_pneumonia_dataset-jmerkow, version: 1\n"
     ]
    }
   ],
   "source": [
    "data_name = f\"rsna_pneumonia_dataset-{unique_name}\"\n",
    "\n",
    "# Retrieve the registered dataset\n",
    "registered_data = ml_client.data.get(name=data_name, label=\"latest\")\n",
    "print(f\"Retrieved dataset: {registered_data.name}, version: {registered_data.version}\")\n"
   ]
  },
  {
   "cell_type": "markdown",
   "metadata": {},
   "source": [
    "## Configuring and Submitting the Training Job\n",
    "\n",
    "This cell represents the culmination of our workflow setup, where we define and launch the actual machine learning training job in Azure ML. By configuring a fully parameterized job definition, we create a reproducible, scalable, and tracked training process that can run on cloud infrastructure without manual intervention.\n",
    "\n",
    "The job configuration brings together all previously established components:\n",
    "- **Input Data**: References our registered pneumonia dataset\n",
    "- **Hyperparameters**: Defines training parameters that control model behavior\n",
    "- **Compute Resources**: Utilizes our GPU cluster for accelerated training\n",
    "- **Environment**: Uses our custom PyTorch environment with all dependencies\n",
    "- **Code Assets**: Points to our training script within the source directory\n",
    "- **Output Management**: Configures MLflow tracking for experiment monitoring\n",
    "\n",
    "This approach offers several critical advantages:\n",
    "- **Reproducibility**: Every aspect of the training process is defined and versioned\n",
    "- **Scalability**: Jobs can be executed on powerful cloud infrastructure\n",
    "- **Separation of Concerns**: Code, data, compute, and parameters are managed independently\n",
    "- **Experiment Tracking**: Integration with MLflow captures metrics and artifacts automatically\n",
    "- **Workflow Automation**: The job can be incorporated into larger ML pipelines\n",
    "\n",
    "Steps:\n",
    "- Define job inputs including dataset path and hyperparameters\n",
    "- Configure a command job with:\n",
    "  - Source code location\n",
    "  - Execution command with parameterized inputs\n",
    "  - Compute target configuration\n",
    "  - Environment specification\n",
    "  - Experiment organization details\n",
    "- Submit the job to Azure ML for execution\n",
    "- Return the job object for tracking and monitoring"
   ]
  },
  {
   "cell_type": "code",
   "execution_count": null,
   "metadata": {},
   "outputs": [
    {
     "name": "stdout",
     "output_type": "stream",
     "text": [
      "Job created with dataset input. Ready to submit.\n"
     ]
    },
    {
     "name": "stderr",
     "output_type": "stream",
     "text": [
      "Class AutoDeleteSettingSchema: This is an experimental class, and may change at any time. Please see https://aka.ms/azuremlexperimental for more information.\n",
      "Class AutoDeleteConditionSchema: This is an experimental class, and may change at any time. Please see https://aka.ms/azuremlexperimental for more information.\n",
      "Class BaseAutoDeleteSettingSchema: This is an experimental class, and may change at any time. Please see https://aka.ms/azuremlexperimental for more information.\n",
      "Class IntellectualPropertySchema: This is an experimental class, and may change at any time. Please see https://aka.ms/azuremlexperimental for more information.\n",
      "Class ProtectionLevelSchema: This is an experimental class, and may change at any time. Please see https://aka.ms/azuremlexperimental for more information.\n",
      "Class BaseIntellectualPropertySchema: This is an experimental class, and may change at any time. Please see https://aka.ms/azuremlexperimental for more information.\n",
      "Warning: the provided asset name 'uw-workshop-gpu-env-jmerkow' will not be used for anonymous registration\n",
      "Warning: the provided asset name 'uw-workshop-gpu-env-jmerkow' will not be used for anonymous registration\n",
      "\u001b[32mUploading src (0.03 MBs): 100%|██████████████████████████████████████████████████████████████████████████████████████████████████████████████████████████████████████████████████████████████████████████████████████████████████████████████████████████████████████████████████████████████████████████████████████████████████████████████████████████████████████████████████████████████████████████████████████████████████████████████████████████████████████████████████████████████████████████████████████████████████████████████████████████████████████████████████████████████████████████████████████████████████████████████████████████████████████████████████████████████████████████████████████████████████████████████████████████████████████████████████████████████████████████████████████████████████████████████████████████████████████████████████████████████████████████████████████████████████████████████████████████████████████████████████████████████| 27907/27907 [00:00<00:00, 157737.17it/s]\u001b[0m\n",
      "\u001b[39m\n",
      "\n"
     ]
    },
    {
     "data": {
      "text/html": [
       "<table style=\"width:100%\"><tr><th>Experiment</th><th>Name</th><th>Type</th><th>Status</th><th>Details Page</th></tr><tr><td>workshop-jmerkow</td><td>honest_onion_54rs3rjg81</td><td>command</td><td>Starting</td><td><a href=\"https://ml.azure.com/runs/honest_onion_54rs3rjg81?wsid=/subscriptions/6c180dd2-1ec4-4fad-8ba8-1f2d8d67c129/resourcegroups/fmmg-mars-collab/workspaces/fmmg-mars-collab&amp;tid=72f988bf-86f1-41af-91ab-2d7cd011db47\" target=\"_blank\" rel=\"noopener\">Link to Azure Machine Learning studio</a></td></tr></table>"
      ],
      "text/plain": [
       "Command({'parameters': {}, 'init': False, 'name': 'honest_onion_54rs3rjg81', 'type': 'command', 'status': 'Starting', 'log_files': None, 'description': None, 'tags': {}, 'properties': {'mlflow.source.git.repoURL': 'https://github.com/microsoft/uwisconsin-collab-workshop.git', 'mlflow.source.git.branch': 'main', 'mlflow.source.git.commit': '3547a4bc7d5346eadf2a31f3b1d99027f5f5bd21', 'azureml.git.dirty': 'True', '_azureml.ComputeTargetType': 'amlctrain', '_azureml.ClusterName': 'gpucluster-jmerkow', 'ContentSnapshotId': 'f4988829-8a7b-4e0a-bd31-1546135b26ec'}, 'print_as_yaml': False, 'id': '/subscriptions/6c180dd2-1ec4-4fad-8ba8-1f2d8d67c129/resourceGroups/fmmg-mars-collab/providers/Microsoft.MachineLearningServices/workspaces/fmmg-mars-collab/jobs/honest_onion_54rs3rjg81', 'Resource__source_path': '', 'base_path': '/mnt/batch/tasks/shared/LS_root/mounts/clusters/jmerkow-cpu-uw/code/Users/jmerkow/UW Workshop/tutorial/03_Training', 'creation_context': <azure.ai.ml.entities._system_data.SystemData object at 0x7efe7c55a470>, 'serialize': <msrest.serialization.Serializer object at 0x7efe7c5848b0>, 'allowed_keys': {}, 'key_restriction': False, 'logger': <TraceLogger attr_dict (WARNING)>, 'display_name': 'test_job', 'experiment_name': 'workshop-jmerkow', 'compute': 'gpucluster-jmerkow', 'services': {'Tracking': {'endpoint': 'azureml://westus2.api.azureml.ms/mlflow/v1.0/subscriptions/6c180dd2-1ec4-4fad-8ba8-1f2d8d67c129/resourceGroups/fmmg-mars-collab/providers/Microsoft.MachineLearningServices/workspaces/fmmg-mars-collab?', 'type': 'Tracking'}, 'Studio': {'endpoint': 'https://ml.azure.com/runs/honest_onion_54rs3rjg81?wsid=/subscriptions/6c180dd2-1ec4-4fad-8ba8-1f2d8d67c129/resourcegroups/fmmg-mars-collab/workspaces/fmmg-mars-collab&tid=72f988bf-86f1-41af-91ab-2d7cd011db47', 'type': 'Studio'}}, 'comment': None, 'job_inputs': {'data_dir': {'type': 'uri_folder', 'path': 'azureml://subscriptions/6c180dd2-1ec4-4fad-8ba8-1f2d8d67c129/resourcegroups/fmmg-mars-collab/workspaces/fmmg-mars-collab/datastores/workspaceblobstore/paths/LocalUpload/e41c3f0a32f2821262206fe3d1dae3c5/rsna-pneumonia-detection-challenge/', 'mode': 'ro_mount'}, 'max_epochs': '3', 'learning_rate': '0.001', 'batch_size': '32', 'mlflow_model_dir': 'outputs/mlflow_model_dir'}, 'job_outputs': {'default': {'type': 'uri_folder', 'path': 'azureml://datastores/workspaceartifactstore/ExperimentRun/dcid.honest_onion_54rs3rjg81', 'mode': 'rw_mount'}}, 'inputs': {'data_dir': <azure.ai.ml.entities._job.pipeline._io.base.NodeInput object at 0x7efe7c584be0>, 'max_epochs': <azure.ai.ml.entities._job.pipeline._io.base.NodeInput object at 0x7efe7c584310>, 'learning_rate': <azure.ai.ml.entities._job.pipeline._io.base.NodeInput object at 0x7efe7c5852d0>, 'batch_size': <azure.ai.ml.entities._job.pipeline._io.base.NodeInput object at 0x7efe7c5850c0>, 'mlflow_model_dir': <azure.ai.ml.entities._job.pipeline._io.base.NodeInput object at 0x7efe7c584820>}, 'outputs': {'default': <azure.ai.ml.entities._job.pipeline._io.base.NodeOutput object at 0x7efe7c5847f0>}, 'component': CommandComponent({'latest_version': None, 'intellectual_property': None, 'auto_increment_version': True, 'source': 'REMOTE.WORKSPACE.JOB', 'is_anonymous': False, 'auto_delete_setting': None, 'name': 'honest_onion_54rs3rjg81', 'description': None, 'tags': {}, 'properties': {}, 'print_as_yaml': False, 'id': None, 'Resource__source_path': None, 'base_path': '/mnt/batch/tasks/shared/LS_root/mounts/clusters/jmerkow-cpu-uw/code/Users/jmerkow/UW Workshop/tutorial/03_Training', 'creation_context': <azure.ai.ml.entities._system_data.SystemData object at 0x7efe7c55a470>, 'serialize': <msrest.serialization.Serializer object at 0x7efe7c585090>, 'command': 'python train.py --data_dir ${{inputs.data_dir}} --max_epochs ${{inputs.max_epochs}} --learning_rate ${{inputs.learning_rate}} --batch_size ${{inputs.batch_size}} --mlflow_model_dir ${{inputs.mlflow_model_dir}}', 'code': '/subscriptions/6c180dd2-1ec4-4fad-8ba8-1f2d8d67c129/resourceGroups/fmmg-mars-collab/providers/Microsoft.MachineLearningServices/workspaces/fmmg-mars-collab/codes/21976e1f-32fd-43a7-8ad8-5ab416d71d24/versions/1', 'environment_variables': {}, 'environment': '/subscriptions/6c180dd2-1ec4-4fad-8ba8-1f2d8d67c129/resourceGroups/fmmg-mars-collab/providers/Microsoft.MachineLearningServices/workspaces/fmmg-mars-collab/environments/uw-workshop-gpu-env-jmerkow/versions/12', 'distribution': None, 'resources': None, 'queue_settings': None, 'version': None, 'schema': None, 'type': 'command', 'display_name': 'test_job', 'is_deterministic': True, 'inputs': {'data_dir': {'type': 'uri_folder', 'path': 'azureml://subscriptions/6c180dd2-1ec4-4fad-8ba8-1f2d8d67c129/resourcegroups/fmmg-mars-collab/workspaces/fmmg-mars-collab/datastores/workspaceblobstore/paths/LocalUpload/e41c3f0a32f2821262206fe3d1dae3c5/rsna-pneumonia-detection-challenge/', 'mode': 'ro_mount'}, 'max_epochs': {'type': 'string', 'default': '3'}, 'learning_rate': {'type': 'string', 'default': '0.001'}, 'batch_size': {'type': 'string', 'default': '32'}, 'mlflow_model_dir': {'type': 'string', 'default': 'outputs/mlflow_model_dir'}}, 'outputs': {'default': {'type': 'uri_folder', 'path': 'azureml://datastores/workspaceartifactstore/ExperimentRun/dcid.honest_onion_54rs3rjg81', 'mode': 'rw_mount'}}, 'yaml_str': None, 'other_parameter': {'status': 'Starting', 'parameters': {}}, 'additional_includes': []}), 'referenced_control_flow_node_instance_id': None, 'kwargs': {'services': {'Tracking': {'endpoint': 'azureml://westus2.api.azureml.ms/mlflow/v1.0/subscriptions/6c180dd2-1ec4-4fad-8ba8-1f2d8d67c129/resourceGroups/fmmg-mars-collab/providers/Microsoft.MachineLearningServices/workspaces/fmmg-mars-collab?', 'type': 'Tracking'}, 'Studio': {'endpoint': 'https://ml.azure.com/runs/honest_onion_54rs3rjg81?wsid=/subscriptions/6c180dd2-1ec4-4fad-8ba8-1f2d8d67c129/resourcegroups/fmmg-mars-collab/workspaces/fmmg-mars-collab&tid=72f988bf-86f1-41af-91ab-2d7cd011db47', 'type': 'Studio'}}, 'status': 'Starting', 'creation_context': <azure.ai.ml.entities._system_data.SystemData object at 0x7efe7c55a470>}, 'instance_id': 'ba277e21-1d2c-4756-b488-6ca805678a32', 'source': 'BUILDER', 'validate_required_input_not_provided': True, 'limits': None, 'identity': None, 'distribution': None, 'environment_variables': {}, 'environment': 'uw-workshop-gpu-env-jmerkow:12', 'resources': {'instance_count': 1, 'shm_size': '2g'}, 'queue_settings': None, 'swept': False})"
      ]
     },
     "execution_count": 5,
     "metadata": {},
     "output_type": "execute_result"
    }
   ],
   "source": [
    "from azure.ai.ml import command, Input\n",
    "from azure.ai.ml.constants import AssetTypes\n",
    "\n",
    "# Define job inputs including dataset and training hyperparameters\n",
    "inputs = {\n",
    "    \"data_dir\": Input(type=AssetTypes.URI_FOLDER, path=registered_data.path),  # Reference to pneumonia dataset\n",
    "    \"max_epochs\": 1,\n",
    "    \"learning_rate\": 0.001,\n",
    "    \"batch_size\": 32,\n",
    "\n",
    "    \"mlflow_model_dir\": \"outputs/mlflow_model_dir\"  # Location to store MLflow model\n",
    "    }\n",
    "\n",
    "# Configure the training job with code, compute, and environment\n",
    "job = command(\n",
    "    code=\"./src\",  # Source code directory containing training script\n",
    "    command=\"python train.py --data_dir ${{inputs.data_dir}} --max_epochs ${{inputs.max_epochs}} --learning_rate ${{inputs.learning_rate}} --batch_size ${{inputs.batch_size}} --mlflow_model_dir ${{inputs.mlflow_model_dir}}\",\n",
    "    compute=gpu_cluster_name,  # Use the GPU cluster defined earlier\n",
    "    environment=registered_env,  # Use PyTorch GPU environment with dependencies\n",
    "    inputs=inputs,\n",
    "    experiment_name=f\"workshop-{unique_name}\",  # For organizing related jobs in AzureML\n",
    "    display_name=\"test_job\"  # Human-readable name in the AzureML UI\n",
    ")\n",
    "\n",
    "print(\"Job created with dataset input. Ready to submit.\")\n",
    "# Submit the job to AzureML and get a reference to the running job\n",
    "test_job = ml_client.jobs.create_or_update(job)\n",
    "test_job\n"
   ]
  },
  {
   "cell_type": "markdown",
   "metadata": {},
   "source": [
    "## Job Output Streaming\n",
    "\n",
    "This cell connects to the running training job and displays its logs in real-time, allowing us to monitor progress, track metrics, and detect any issues as they occur without leaving the notebook environment.\n",
    "\n",
    "**_Note_: This cell will not complete until the job finishes execution.**"
   ]
  },
  {
   "cell_type": "code",
   "execution_count": null,
   "metadata": {},
   "outputs": [],
   "source": [
    "ml_client.jobs.stream(test_job.name)\n"
   ]
  },
  {
   "cell_type": "markdown",
   "metadata": {},
   "source": [
    "## Hyperparameter Optimization with Sweep Job\n",
    "\n",
    "This cell configures and launches an automated hyperparameter tuning experiment that systematically explores different learning rate values to optimize model performance. By leveraging Azure ML's sweep capabilities, we can efficiently discover optimal hyperparameters without manually testing each configuration.\n",
    "\n",
    "### Parameter Sweeps\n",
    "Parameter sweeps are essential in machine learning development for several key reasons:\n",
    "- **Objective optimization**: Automatically identifies parameter combinations that maximize model performance\n",
    "- **Efficient exploration**: LogUniform sampling efficiently explores values across orders of magnitude (10^-10 to 10^-2)\n",
    "- **Reduced human bias**: Systematic exploration may discover unintuitive but effective parameters humans might not try\n",
    "- **Time savings**: Parallel trials dramatically reduce the time needed to find optimal configurations\n",
    "- **Reproducibility**: The structured approach ensures the parameter search process is documented and repeatable\n",
    "\n",
    "In this specific sweep, we're exploring learning rate values, one of the most critical hyperparameters that influences convergence speed and final model quality.\n",
    "\n",
    "### Compute Clusters with AzureML\n",
    "Our sweep job leverages the GPU compute cluster we configured earlier, which provides several advantages:\n",
    "- **Resource elasticity**: Scales between 0-4 nodes as needed, maximizing resource utilization\n",
    "- **Parallel execution**: Runs multiple trials simultaneously, accelerating the optimization process\n",
    "- **Cost management**: Auto-scaling ensures we only pay for compute when actively using it\n",
    "- **Hardware optimization**: GPU acceleration dramatically speeds up each individual training run\n",
    "- **Centralized management**: All compute resources are managed through the AzureML platform\n",
    "\n",
    "Steps:\n",
    "- Create a new job configuration with a learning rate sweep parameter (LogUniform distribution from 10^-10 to 10^-2)\n",
    "- Configure sweep settings:\n",
    "  - Random sampling strategy to explore parameter space\n",
    "  - Maximum of 12 total trials with 3 running concurrently\n",
    "  - Early termination policy (Bandit) to automatically stop underperforming trials\n",
    "  - Target metric set to \"val_best_metric_val\" for maximization\n",
    "- Submit the sweep job for execution on our GPU cluster"
   ]
  },
  {
   "cell_type": "code",
   "execution_count": null,
   "metadata": {},
   "outputs": [
    {
     "data": {
      "text/html": [
       "<table style=\"width:100%\"><tr><th>Experiment</th><th>Name</th><th>Type</th><th>Status</th><th>Details Page</th></tr><tr><td>workshop-jmerkow</td><td>olive_book_q332n8t0sq</td><td>sweep</td><td>Running</td><td><a href=\"https://ml.azure.com/runs/olive_book_q332n8t0sq?wsid=/subscriptions/6c180dd2-1ec4-4fad-8ba8-1f2d8d67c129/resourcegroups/fmmg-mars-collab/workspaces/fmmg-mars-collab&amp;tid=72f988bf-86f1-41af-91ab-2d7cd011db47\" target=\"_blank\" rel=\"noopener\">Link to Azure Machine Learning studio</a></td></tr></table>"
      ],
      "text/plain": [
       "SweepJob({'type': 'sweep', 'status': 'Running', 'log_files': None, 'name': 'olive_book_q332n8t0sq', 'description': None, 'tags': {'_aml_system_max_concurrent_jobs': '3', '_aml_system_max_total_jobs': '24', '_aml_system_max_duration_minutes': '86400', '_aml_system_policy_config': '{\"name\":\"Bandit\",\"properties\":{\"evaluation_interval\":1,\"delay_evaluation\":3,\"slack_factor\":0.15}}', '_aml_system_generator_config': '{\"name\":\"RANDOM\",\"parameter_space\":{\"learning_rate\":[\"loguniform\",[-10,-2]],\"batch_size\":[\"choice\",[[16,32,48]]]},\"properties\":{\"rule\":\"Random\",\"logbase\":null,\"seed\":null}}', '_aml_system_primary_metric_config': '{\"name\":\"val_auc\",\"goal\":\"maximize\"}', '_aml_system_platform_config': '{\"ServiceAddress\":\"https://westus2.api.azureml.ms\",\"SubscriptionId\":\"6c180dd2-1ec4-4fad-8ba8-1f2d8d67c129\",\"ResourceGroupName\":\"fmmg-mars-collab\",\"WorkspaceName\":\"fmmg-mars-collab\",\"ExperimentName\":\"workshop-jmerkow\",\"Definition\":{\"Configuration\":null,\"Attribution\":null,\"TelemetryValues\":null,\"Overrides\":{\"Script\":null,\"Command\":\"python train.py --data_dir ${{inputs.data_dir}} --max_epochs ${{inputs.max_epochs}} --learning_rate ${{search_space.learning_rate}} --batch_size ${{search_space.batch_size}} --mlflow_model_dir ${{inputs.mlflow_model_dir}}\",\"UseAbsolutePath\":true,\"Arguments\":[],\"SourceDirectoryDataStore\":null,\"Framework\":0,\"Target\":\"gpucluster-jmerkow\",\"DataReferences\":{},\"Data\":{\"data_dir\":{\"DataLocation\":{\"Dataset\":null,\"DataPath\":null,\"Uri\":{\"Path\":\"azureml://subscriptions/6c180dd2-1ec4-4fad-8ba8-1f2d8d67c129/resourcegroups/fmmg-mars-collab/workspaces/fmmg-mars-collab/datastores/workspaceblobstore/paths/LocalUpload/e41c3f0a32f2821262206fe3d1dae3c5/rsna-pneumonia-detection-challenge/\",\"IsFile\":false},\"Type\":\"UriFolder\"},\"Mechanism\":\"Mount\",\"EnvironmentVariableName\":\"AZURE_ML_INPUT_data_dir\",\"PathOnCompute\":null,\"Overwrite\":false,\"Options\":{\"IsEvalMode\":\"False\",\"ReadWrite\":\"False\",\"ForceFolder\":\"False\"}}},\"InputAssets\":{\"data_dir\":{\"Asset\":{\"AssetId\":\"azureml://locations/westus2/workspaces/681e8849-345b-4da8-b1b6-8697ba1ef038/data/azureml_plucky_pasta_v0dw04m2w2_input_data_data_dir/versions/1\",\"Type\":\"UriFolder\"},\"Mechanism\":\"Mount\",\"EnvironmentVariableName\":\"AZURE_ML_INPUT_data_dir\",\"PathOnCompute\":null,\"Overwrite\":false,\"Options\":{\"IsEvalMode\":\"False\",\"ReadWrite\":\"False\",\"ForceFolder\":\"False\"}}},\"OutputData\":{},\"Datacaches\":[],\"JobName\":null,\"MaxRunDurationSeconds\":null,\"NodeCount\":1,\"InstanceTypes\":[],\"Priority\":null,\"CredentialPassthrough\":false,\"Identity\":null,\"Environment\":{\"Name\":\"uw-workshop-gpu-env-jmerkow\",\"Version\":\"12\",\"AssetId\":\"azureml://locations/westus2/workspaces/681e8849-345b-4da8-b1b6-8697ba1ef038/environments/uw-workshop-gpu-env-jmerkow/versions/12\",\"AutoRebuild\":false,\"Python\":{\"InterpreterPath\":null,\"UserManagedDependencies\":false,\"CondaDependencies\":{\"channels\":[\"defaults\",\"pytorch\"],\"dependencies\":[\"python=3.10\",\"pip\",{\"pip\":[\"azureml-core==1.57.0.post1\",\"azureml-dataprep==5.1.6\",\"azureml-dataprep-native==41.0.0\",\"azureml-dataprep-rslex==2.22.4\",\"azureml-fsspec==1.3.1\",\"azureml-mlflow==1.57.0.post1\",\"azureml-mlflow==1.57.0.post1\",\"mlflow==2.16.2\",\"mlflow-skinny==2.16.2\",\"pandas<2.0.0\",\"torch~=2.6.0\",\"torchvision~=0.21.0\",\"pytorch-lightning<2.0.0\",\"pydicom~=2.4.0\",\"Pillow>=9.4.0\",\"torchxrayvision~=1.3.0\",\"numpy<2.0\"]}],\"name\":\"uw-workshop-training\"},\"BaseCondaEnvironment\":null},\"EnvironmentVariables\":{},\"Docker\":{\"BaseImage\":\"mcr.microsoft.com/azureml/curated/acpt-pytorch-1.13-cuda11.7:latest\",\"Platform\":{\"Os\":\"Linux\",\"Architecture\":\"amd64\"},\"BaseDockerfile\":null,\"BaseImageRegistry\":null},\"Spark\":{\"Repositories\":[],\"Packages\":[],\"PrecachePackages\":true},\"InferencingStackVersion\":null},\"History\":{\"OutputCollection\":true,\"DirectoriesToWatch\":[\"logs\"],\"EnableMLflowTracking\":true},\"Spark\":{\"Configuration\":{}},\"ParallelTask\":{\"MaxRetriesPerWorker\":0,\"WorkerCountPerNode\":1,\"TerminalExitCodes\":null,\"Configuration\":{}},\"BatchAi\":{\"NodeCount\":0},\"AmlCompute\":{\"Name\":null,\"VmSize\":null,\"RetainCluster\":false,\"ClusterMaxNodeCount\":null},\"AISuperComputer\":{\"InstanceType\":\"D2\",\"FrameworkImage\":null,\"ImageVersion\":null,\"Location\":null,\"AISuperComputerStorageData\":null,\"Interactive\":false,\"ScalePolicy\":null,\"VirtualClusterArmId\":null,\"TensorboardLogDirectory\":null,\"SSHPublicKey\":null,\"SSHPublicKeys\":null,\"EnableAzmlInt\":true,\"Priority\":\"Medium\",\"SLATier\":\"Standard\",\"UserAlias\":null},\"KubernetesCompute\":{\"InstanceType\":null},\"Tensorflow\":{\"WorkerCount\":0,\"ParameterServerCount\":0},\"Mpi\":{\"ProcessCountPerNode\":0},\"PyTorch\":{\"CommunicationBackend\":null,\"ProcessCount\":null},\"Hdi\":{\"YarnDeployMode\":0},\"ContainerInstance\":{\"Region\":null,\"CpuCores\":2.0,\"MemoryGb\":3.5},\"ExposedPorts\":null,\"Docker\":{\"UseDocker\":true,\"SharedVolumes\":null,\"ShmSize\":\"2g\",\"Arguments\":null},\"Cmk8sCompute\":{\"Configuration\":{}},\"CommandReturnCodeConfig\":{\"ReturnCode\":0,\"SuccessfulReturnCodes\":[]},\"EnvironmentVariables\":{},\"ApplicationEndpoints\":{},\"Parameters\":[{\"Name\":\"max_epochs\",\"Type\":null,\"Value\":\"20\",\"IsOptional\":false},{\"Name\":\"mlflow_model_dir\",\"Type\":null,\"Value\":\"outputs/mlflow_model_dir\",\"IsOptional\":false}]},\"SnapshotId\":\"f4988829-8a7b-4e0a-bd31-1546135b26ec\",\"Snapshots\":[],\"SourceCodeDataReference\":null,\"ParentRunId\":null,\"DataContainerId\":null,\"RunType\":null,\"DisplayName\":\"olive_book_q332n8t0sq\",\"EnvironmentAssetId\":null,\"Properties\":{\"mlflow.source.git.repoURL\":\"https://github.com/microsoft/uwisconsin-collab-workshop.git\",\"mlflow.source.git.branch\":\"main\",\"mlflow.source.git.commit\":\"39f86e77489eefc8102946cfe4768792c1883338\",\"azureml.git.dirty\":\"True\"},\"Tags\":{},\"AggregatedArtifactPath\":null},\"ParentRunId\":\"olive_book_q332n8t0sq\"}', '_aml_system_resume_child_runs': 'null', '_aml_system_all_jobs_generated': 'false', '_aml_system_cancellation_requested': 'false', '_aml_system_samples_generated_count': '0'}, 'properties': {'primary_metric_config': '{\"name\":\"val_auc\",\"goal\":\"maximize\"}', 'resume_from': 'null', 'runTemplate': 'HyperDrive', 'azureml.runsource': 'hyperdrive', 'platform': 'AML', 'ContentSnapshotId': 'f4988829-8a7b-4e0a-bd31-1546135b26ec', 'user_agent': 'managementfrontend/0b36c79e41749f9350767d97e2b715140cc4f2c7+0b36c79e41749f9350767d97e2b715140cc4f2c7', 'mlflow.source.git.repoURL': 'https://github.com/microsoft/uwisconsin-collab-workshop.git', 'mlflow.source.git.branch': 'main', 'mlflow.source.git.commit': '39f86e77489eefc8102946cfe4768792c1883338', 'azureml.git.dirty': 'True'}, 'print_as_yaml': False, 'id': '/subscriptions/6c180dd2-1ec4-4fad-8ba8-1f2d8d67c129/resourceGroups/fmmg-mars-collab/providers/Microsoft.MachineLearningServices/workspaces/fmmg-mars-collab/jobs/olive_book_q332n8t0sq', 'Resource__source_path': '', 'base_path': '/mnt/batch/tasks/shared/LS_root/mounts/clusters/jmerkow-cpu-uw/code/Users/jmerkow/UW Workshop/tutorial/03_Training', 'creation_context': <azure.ai.ml.entities._system_data.SystemData object at 0x7efe67ece260>, 'serialize': <msrest.serialization.Serializer object at 0x7efe67ece2c0>, 'sampling_algorithm': <azure.ai.ml.entities._job.sweep.sampling_algorithm.RandomSamplingAlgorithm object at 0x7efe7c04ac20>, 'early_termination': <azure.ai.ml.entities._job.sweep.early_termination_policy.BanditPolicy object at 0x7efe7c049090>, 'limits': <azure.ai.ml.entities._job.job_limits.SweepJobLimits object at 0x7efe67ecdc00>, 'search_space': {'learning_rate': <azure.ai.ml.entities._job.sweep.search_space.LogUniform object at 0x7efe67ecd690>, 'batch_size': <azure.ai.ml.entities._job.sweep.search_space.Choice object at 0x7efe67ece470>}, 'queue_settings': <azure.ai.ml._restclient.v2024_01_01_preview.models._models_py3.QueueSettings object at 0x7efe67ece770>, 'objective': <azure.ai.ml.entities._job.sweep.objective.Objective object at 0x7efe67ece290>, 'resources': <azure.ai.ml._restclient.v2024_01_01_preview.models._models_py3.JobResourceConfiguration object at 0x7efe67ece830>, 'display_name': 'olive_book_q332n8t0sq', 'experiment_name': 'workshop-jmerkow', 'compute': 'gpucluster-jmerkow', 'services': {'Studio': <azure.ai.ml._restclient.v2024_01_01_preview.models._models_py3.JobService object at 0x7efe67ece5c0>}, 'inputs': {'data_dir': {'type': 'uri_folder', 'path': 'azureml://locations/westus2/workspaces/681e8849-345b-4da8-b1b6-8697ba1ef038/data/azureml_plucky_pasta_v0dw04m2w2_input_data_data_dir/versions/1', 'mode': 'ro_mount'}, 'max_epochs': '20', 'mlflow_model_dir': 'outputs/mlflow_model_dir'}, 'outputs': {'default': {'type': 'uri_folder', 'path': 'azureml://datastores/workspaceartifactstore/ExperimentRun/dcid.olive_book_q332n8t0sq', 'mode': 'rw_mount'}}, 'trial': <azure.ai.ml.entities._job.parameterized_command.ParameterizedCommand object at 0x7efe67ecd360>, 'identity': None})"
      ]
     },
     "execution_count": 10,
     "metadata": {},
     "output_type": "execute_result"
    }
   ],
   "source": [
    "from azure.ai.ml import sweep\n",
    "\n",
    "command_for_sweep_job = job(learning_rate=sweep.LogUniform(-10, -2), max_epochs=20, batch_size=sweep.Choice([16, 32, 48]))\n",
    "command_for_sweep_job.display_name = None\n",
    "command_for_sweep_job.experiment_name = job.experiment_name\n",
    "sweep_job = command_for_sweep_job.sweep(\n",
    "    sampling_algorithm=\"random\",\n",
    "    primary_metric=\"val_goal_metric_val\",\n",
    "    goal=\"Maximize\",\n",
    "    max_total_trials=24,\n",
    "    max_concurrent_trials=3,\n",
    "    early_termination_policy=sweep.BanditPolicy(\n",
    "        slack_factor=0.15, evaluation_interval=1, delay_evaluation=3\n",
    "    ))\n",
    "\n",
    "ml_client.jobs.create_or_update(sweep_job)\n"
   ]
  },
  {
   "cell_type": "code",
   "execution_count": null,
   "metadata": {},
   "outputs": [],
   "source": []
  }
 ],
 "metadata": {
  "kernelspec": {
   "display_name": "azureml_py310_sdkv2",
   "language": "python",
   "name": "python3"
  },
  "language_info": {
   "codemirror_mode": {
    "name": "ipython",
    "version": 3
   },
   "file_extension": ".py",
   "mimetype": "text/x-python",
   "name": "python",
   "nbconvert_exporter": "python",
   "pygments_lexer": "ipython3",
   "version": "3.10.14"
  }
 },
 "nbformat": 4,
 "nbformat_minor": 2
}
